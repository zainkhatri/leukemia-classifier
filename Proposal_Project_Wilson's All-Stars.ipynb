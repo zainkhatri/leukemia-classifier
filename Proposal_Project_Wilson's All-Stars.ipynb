{
 "cells": [
  {
   "attachments": {},
   "cell_type": "markdown",
   "metadata": {},
   "source": [
    "# COGS 188 - Leukemia Classifier Project Proposal"
   ]
  },
  {
   "attachments": {},
   "cell_type": "markdown",
   "metadata": {},
   "source": [
    "# Project Description\n",
    "\n",
    "Our team is developing a medical AI system for early Leukemia detection that addresses a critical real-world challenge in healthcare. The project is working with over 3,000 blood cell images and complex image data. We're implementing a complete deep learning pipeline with model selection, uncertainty quantification, and multiple evaluation metrics. Rather than a toy problem, we're tackling a system that could have real clinical impact."
   ]
  },
  {
   "cell_type": "markdown",
   "metadata": {},
   "source": [
    "# Names\n",
    "\n",
    "- Zain Khatri\n",
    "- Mohsin Khawaja\n",
    "- Syed Usmani\n",
    "- Wilson Zhu"
   ]
  },
  {
   "cell_type": "markdown",
   "metadata": {},
   "source": [
    "# Abstract \n",
    "Our project aims to develop an interpretable deep learning system for early detection and subtype classification of Acute Lymphoblastic Leukemia (ALL). We will be working with a dataset of 3,242 peripheral blood smear images collected from Taleqani Hospital, containing expert-validated labels for benign and three malignant subtypes (Early Pre-B, Pre-B, and Pro-B ALL). We're building a custom CNN architecture that moves beyond simple classification by incorporating uncertainty quantification and visual explanations to help medical professionals understand and trust its decisions. Performance will be measured using not just accuracy metrics, but also through uncertainty calibration and interpretability measures to ensure real clinical utility.\n",
    "\n"
   ]
  },
  {
   "attachments": {},
   "cell_type": "markdown",
   "metadata": {},
   "source": [
    "# Background\n",
    "\n",
    "Our research focuses on Acute Lymphoblastic Leukemia (ALL), an aggressive blood cancer requiring rapid diagnosis for optimal treatment outcomes<a name=\"terwilliger\"></a>[<sup>[1]</sup>](#terwilligernote). While manual microscopic examination remains the standard practice, it faces significant challenges with studies showing inter-observer variability rates up to 30%<a name=\"labati\"></a>[<sup>[2]</sup>](#labatinote).\n",
    "\n",
    "We've found that deep learning approaches show promise in addressing these challenges, with recent studies achieving over 90% accuracy in leukemia cell classification<a name=\"rehman\"></a>[<sup>[3]</sup>](#rehmannote). However, our research indicates a crucial gap - developing systems that provide interpretable results that clinicians can trust and incorporate into their decision-making process<a name=\"tonekaboni\"></a>[<sup>[4]</sup>](#tonekabininote).\n",
    "\n",
    "A key insight driving our approach is that uncertainty quantification in medical AI systems has emerged as crucial for clinical adoption, helping identify cases requiring additional expert review<a name=\"begoli\"></a>[<sup>[5]</sup>](#begolinote).\n"
   ]
  },
  {
   "cell_type": "markdown",
   "metadata": {},
   "source": [
    "# Problem Statement\n",
    "\n",
    "We're developing a deep learning system that will:\n",
    "1. Classify blood cell images into four categories (benign, Early Pre-B, Pre-B, and Pro-B ALL)\n",
    "2. Provide uncertainty estimates for each classification\n",
    "3. Generate visual explanations highlighting relevant cell features\n",
    "4. Identify borderline cases requiring expert review\n",
    "\n",
    "Our system must achieve:\n",
    "- Classification accuracy comparable to expert pathologists (>90%)\n",
    "- Reliable uncertainty estimates correlating with prediction errors\n",
    "- Interpretable visual explanations that align with medical knowledge\n",
    "- Real-time processing capability (<2 seconds per image)\n"
   ]
  },
  {
   "cell_type": "markdown",
   "metadata": {},
   "source": [
    "# Data\n",
    "\n",
    "We're working with the Blood Cells Cancer (ALL) dataset:\n",
    "- Source: Taleqani Hospital (Tehran, Iran), available on Kaggle\n",
    "- Size: 3,242 peripheral blood smear (PBS) images from 89 patients\n",
    "- Distribution:\n",
    " * Benign: 512 images\n",
    " * Pre-B: 955 images\n",
    " * Pro-B: 796 images\n",
    " * Early Pre-B: 979 images\n",
    "- Image specifications:\n",
    " * Format: JPG\n",
    " * Magnification: 100x\n",
    " * Captured using: Zeiss microscope camera\n",
    " * Expert-validated labels using flow cytometry\n",
    "\n",
    "Our preprocessing pipeline includes:\n",
    "- Image normalization and standardization\n",
    "- Data augmentation (rotation, scaling, color jittering)\n",
    "- Train/validation/test split (maintaining patient-wise separation)\n",
    "- Class balancing techniques\n"
   ]
  },
  {
   "cell_type": "markdown",
   "metadata": {},
   "source": [
    "# Proposed Solution\n",
    "\n",
    "We're implementing a custom CNN architecture with three main components:\n",
    "\n",
    "1. Base Architecture:\n",
    "- ResNet50 backbone pretrained on ImageNet\n",
    "- Custom head layers for multi-class classification\n",
    "- Monte Carlo dropout layers for uncertainty estimation\n",
    "\n",
    "2. Interpretability Layer:\n",
    "- Grad-CAM implementation for visual explanations\n",
    "- Attention mechanisms to highlight relevant cell features\n",
    "\n",
    "3. Uncertainty Quantification:\n",
    "- Ensemble of 5 models with different initializations\n",
    "- Monte Carlo dropout sampling (50 forward passes)\n",
    "- Calibrated probability estimates\n",
    "\n",
    "For our benchmark, we're using a VGG16 with standard classification head, which is a common baseline in medical imaging.\n"
   ]
  },
  {
   "cell_type": "markdown",
   "metadata": {},
   "source": [
    "# Evaluation Metrics\n",
    "\n",
    "We'll evaluate our system using three categories of metrics:\n",
    "\n",
    "1. Classification Performance:\n",
    "- Multi-class accuracy\n",
    "- Per-class precision, recall, F1-scores\n",
    "- Confusion matrix analysis\n",
    "- ROC curves and AUC for each class\n",
    "\n",
    "2. Uncertainty Quality:\n",
    "- Expected calibration error\n",
    "- Prediction interval coverage probability\n",
    "- Uncertainty-error correlation\n",
    "\n",
    "3. Interpretability Measures:\n",
    "- Localization accuracy of highlighted regions\n",
    "- Expert evaluation of visual explanations\n",
    "- Correlation with known diagnostic features\n"
   ]
  },
  {
   "cell_type": "markdown",
   "metadata": {},
   "source": [
    "# Ethics & Privacy"
   ]
  },
  {
   "cell_type": "markdown",
   "metadata": {},
   "source": [
    "We've identified several critical ethical considerations:\n",
    "\n",
    "1. Patient Privacy\n",
    "- We'll ensure all images remain anonymized and securely handled\n",
    "- Our system deployment will comply with HIPAA regulations\n",
    "\n",
    "2. Clinical Impact\n",
    "- We're carefully considering false negative risks that could delay treatment\n",
    "- We're addressing false positive impacts that could lead to unnecessary procedures\n",
    "- Our system will clearly communicate uncertainty levels\n",
    "\n",
    "3. Bias Mitigation\n",
    "- We'll analyze dataset demographic representation\n",
    "- Implement regular performance audits across patient subgroups\n",
    "- Clearly document system limitations\n"
   ]
  },
  {
   "cell_type": "markdown",
   "metadata": {},
   "source": [
    "# Team Expectations "
   ]
  },
  {
   "cell_type": "markdown",
   "metadata": {},
   "source": [
    "* We'll maintain daily communication through Discord/Slack\n",
    "* All code changes require review before merging to main branch\n",
    "* We commit to 24-hour maximum response times\n",
    "* Work will be distributed equally with clear ownership\n",
    "* Weekly sync meetings to track progress"
   ]
  },
  {
   "cell_type": "markdown",
   "metadata": {},
   "source": [
    "# Project Timeline Proposal"
   ]
  },
  {
   "cell_type": "markdown",
   "metadata": {},
   "source": [
    "| Meeting Date | Meeting Time | Completed Before Meeting | Discuss at Meeting |\n",
    "|-------------|-------------|---------------------------|---------------------|\n",
    "| **2/14/25** | 6 PM        | Initial research and dataset exploration (**All Members**) | Finalize architecture, discuss preprocessing |\n",
    "| **2/21/25** | 6 PM        | Basic model implementation (**Zain & Syed**) | Review first results, plan improvements |\n",
    "| **2/28/25** | 6 PM        | Uncertainty quantification (**Mohsin & Wilson**) | Evaluate metrics, optimization strategy |\n",
    "| **3/7/25**  | 6 PM        | Interpretability features (**All Members**) | Final review, prepare documentation |\n",
    "| **3/14/25** | 6 PM        | Documentation and testing (**All Members**) | Final presentation prep |\n",
    "| **3/19/25** | Before 11:59 PM | NA | Submit Final Project |"
   ]
  },
  {
   "cell_type": "markdown",
   "metadata": {},
   "source": [
    "# Footnotes\n",
    "<a name=\"terwilligernote\"></a>1.[^](#terwilliger): Terwilliger, T., & Abdul-Hay, M. (2017). Acute lymphoblastic leukemia: a comprehensive review and 2017 update. Blood Cancer Journal, 7(6), e577.<br>\n",
    "<a name=\"labatinote\"></a>2.[^](#labati): Labati, R. D., et al. (2011). ALL-IDB: The acute lymphoblastic leukemia image database for image processing. IEEE International Conference on Image Processing.<br>\n",
    "<a name=\"rehmannote\"></a>3.[^](#rehman): Rehman, A., et al. (2020). Classification of acute lymphoblastic leukemia using deep learning. Microscopy Research and Technique, 83(11), 1365-1378.<br>\n",
    "<a name=\"tonekabininote\"></a>4.[^](#tonekaboni): Tonekaboni, S., et al. (2019). What Clinicians Want: Contextualizing Explainable Machine Learning for Clinical End Use. Machine Learning for Healthcare Conference.<br>\n",
    "<a name=\"begolinote\"></a>5.[^](#begoli): Begoli, E., et al. (2019). The need for uncertainty quantification in machine-assisted medical decision making. Nature Machine Intelligence, 1(1), 20-23.<br>\n"
   ]
  }
 ],
 "metadata": {
  "kernelspec": {
   "display_name": "Python 3",
   "language": "python",
   "name": "python3"
  },
  "language_info": {
   "codemirror_mode": {
    "name": "ipython",
    "version": 3
   },
   "file_extension": ".py",
   "mimetype": "text/x-python",
   "name": "python",
   "nbconvert_exporter": "python",
   "pygments_lexer": "ipython3",
   "version": "3.7.11 (default, Jul 27 2021, 07:03:16) \n[Clang 10.0.0 ]"
  },
  "vscode": {
   "interpreter": {
    "hash": "40d3a090f54c6569ab1632332b64b2c03c39dcf918b08424e98f38b5ae0af88f"
   }
  }
 },
 "nbformat": 4,
 "nbformat_minor": 2
}
